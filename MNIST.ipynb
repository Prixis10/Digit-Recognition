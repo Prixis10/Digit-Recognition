{
  "nbformat": 4,
  "nbformat_minor": 0,
  "metadata": {
    "colab": {
      "provenance": [],
      "gpuType": "T4"
    },
    "kernelspec": {
      "name": "python3",
      "display_name": "Python 3"
    },
    "language_info": {
      "name": "python"
    },
    "accelerator": "GPU"
  },
  "cells": [
    {
      "cell_type": "code",
      "execution_count": 18,
      "metadata": {
        "id": "a4jMg37LlrGC"
      },
      "outputs": [],
      "source": [
        "import pandas as pd\n",
        "import numpy as np\n",
        "import tensorflow as tf\n",
        "from sklearn.metrics import accuracy_score\n",
        "from sklearn.metrics import confusion_matrix\n",
        "import matplotlib.pyplot as plt\n",
        "import seaborn as sns\n",
        "from tensorflow import keras\n",
        "import cv2\n",
        "from tensorflow.keras import datasets, layers, models"
      ]
    },
    {
      "cell_type": "code",
      "source": [
        "(X_train,y_train),(X_test,y_test) = keras.datasets.mnist.load_data()"
      ],
      "metadata": {
        "id": "_dvbbGbzuB9A",
        "colab": {
          "base_uri": "https://localhost:8080/"
        },
        "outputId": "ca18f472-8d29-4246-b1a1-968139c3d097"
      },
      "execution_count": 2,
      "outputs": [
        {
          "output_type": "stream",
          "name": "stdout",
          "text": [
            "Downloading data from https://storage.googleapis.com/tensorflow/tf-keras-datasets/mnist.npz\n",
            "11490434/11490434 [==============================] - 1s 0us/step\n"
          ]
        }
      ]
    },
    {
      "cell_type": "code",
      "source": [
        "X_train.shape"
      ],
      "metadata": {
        "colab": {
          "base_uri": "https://localhost:8080/"
        },
        "id": "6hnKYmXKtjZK",
        "outputId": "2967e0b3-2f1d-4ea9-d75d-608de7ac2990"
      },
      "execution_count": 3,
      "outputs": [
        {
          "output_type": "execute_result",
          "data": {
            "text/plain": [
              "(60000, 28, 28)"
            ]
          },
          "metadata": {},
          "execution_count": 3
        }
      ]
    },
    {
      "cell_type": "code",
      "source": [
        "y_train.shape"
      ],
      "metadata": {
        "colab": {
          "base_uri": "https://localhost:8080/"
        },
        "id": "qrt4dAP2uI3u",
        "outputId": "018633ca-a628-4a22-a5ff-2b34f9297b36"
      },
      "execution_count": 4,
      "outputs": [
        {
          "output_type": "execute_result",
          "data": {
            "text/plain": [
              "(60000,)"
            ]
          },
          "metadata": {},
          "execution_count": 4
        }
      ]
    },
    {
      "cell_type": "code",
      "source": [
        "X_test.shape"
      ],
      "metadata": {
        "colab": {
          "base_uri": "https://localhost:8080/"
        },
        "id": "EIbVJq5fuMG2",
        "outputId": "1eaaf881-52e4-4fb2-9719-f5b556c19e4a"
      },
      "execution_count": 5,
      "outputs": [
        {
          "output_type": "execute_result",
          "data": {
            "text/plain": [
              "(10000, 28, 28)"
            ]
          },
          "metadata": {},
          "execution_count": 5
        }
      ]
    },
    {
      "cell_type": "code",
      "source": [
        "y_test.shape"
      ],
      "metadata": {
        "colab": {
          "base_uri": "https://localhost:8080/"
        },
        "id": "PLyH0-WiuNy-",
        "outputId": "1540ca06-f191-4375-c42b-5cd3200b4456"
      },
      "execution_count": 6,
      "outputs": [
        {
          "output_type": "execute_result",
          "data": {
            "text/plain": [
              "(10000,)"
            ]
          },
          "metadata": {},
          "execution_count": 6
        }
      ]
    },
    {
      "cell_type": "code",
      "source": [
        "plt.imshow(X_train[2])"
      ],
      "metadata": {
        "colab": {
          "base_uri": "https://localhost:8080/",
          "height": 447
        },
        "id": "k7EbDu1u0HfQ",
        "outputId": "76cb1efa-0132-436c-e2b3-cbd6b6d6bea8"
      },
      "execution_count": 7,
      "outputs": [
        {
          "output_type": "execute_result",
          "data": {
            "text/plain": [
              "<matplotlib.image.AxesImage at 0x7cf9ed1e0f10>"
            ]
          },
          "metadata": {},
          "execution_count": 7
        },
        {
          "output_type": "display_data",
          "data": {
            "text/plain": [
              "<Figure size 640x480 with 1 Axes>"
            ],
            "image/png": "[encoded data removed]"
          },
          "metadata": {}
        }
      ]
    },
    {
      "cell_type": "code",
      "source": [
        "X_train = X_train/255.0\n",
        "X_test = X_test/255.0"
      ],
      "metadata": {
        "id": "a7nGh7nQuR6W"
      },
      "execution_count": 8,
      "outputs": []
    },
    {
      "cell_type": "code",
      "source": [
        "X_train_reshaped = X_train.reshape(-1, 28, 28, 1)\n",
        "X_test_reshaped = X_test.reshape(-1, 28, 28, 1)"
      ],
      "metadata": {
        "id": "Lnt96bCF8huD"
      },
      "execution_count": 9,
      "outputs": []
    },
    {
      "cell_type": "code",
      "source": [
        "model = models.Sequential()\n",
        "model.add(layers.Conv2D(96, (5, 5), activation='relu', input_shape=(28,28,1), padding='same'))\n",
        "model.add(layers.MaxPooling2D((2, 2)))\n",
        "model.add(layers.Dropout(0.5))\n",
        "model.add(layers.Conv2D(96, (5, 5), activation='relu', padding='same'))\n",
        "model.add(layers.MaxPooling2D((2, 2)))\n",
        "model.add(layers.Dropout(0.5))\n",
        "model.add(layers.Conv2D(80, (5, 5), activation='relu', padding='same'))\n",
        "model.add(layers.Conv2D(64, (5, 5), activation='relu', padding='same'))\n",
        "model.add(layers.Conv2D(64, (5, 5), activation='relu', padding='same'))\n",
        "model.add(layers.Conv2D(96, (5, 5), activation='relu', padding='same'))"
      ],
      "metadata": {
        "id": "wPJOwIDWv7zf"
      },
      "execution_count": 10,
      "outputs": []
    },
    {
      "cell_type": "code",
      "source": [
        "model.summary()"
      ],
      "metadata": {
        "colab": {
          "base_uri": "https://localhost:8080/"
        },
        "id": "gMoZULJNvsZ_",
        "outputId": "4a35c8d1-8a79-4c81-8f9f-a7c57ef64813"
      },
      "execution_count": 11,
      "outputs": [
        {
          "output_type": "stream",
          "name": "stdout",
          "text": [
            "Model: \"sequential\"\n",
            "_________________________________________________________________\n",
            " Layer (type)                Output Shape              Param #   \n",
            "=================================================================\n",
            " conv2d (Conv2D)             (None, 28, 28, 96)        2496      \n",
            "                                                                 \n",
            " max_pooling2d (MaxPooling2  (None, 14, 14, 96)        0         \n",
            " D)                                                              \n",
            "                                                                 \n",
            " dropout (Dropout)           (None, 14, 14, 96)        0         \n",
            "                                                                 \n",
            " conv2d_1 (Conv2D)           (None, 14, 14, 96)        230496    \n",
            "                                                                 \n",
            " max_pooling2d_1 (MaxPoolin  (None, 7, 7, 96)          0         \n",
            " g2D)                                                            \n",
            "                                                                 \n",
            " dropout_1 (Dropout)         (None, 7, 7, 96)          0         \n",
            "                                                                 \n",
            " conv2d_2 (Conv2D)           (None, 7, 7, 80)          192080    \n",
            "                                                                 \n",
            " conv2d_3 (Conv2D)           (None, 7, 7, 64)          128064    \n",
            "                                                                 \n",
            " conv2d_4 (Conv2D)           (None, 7, 7, 64)          102464    \n",
            "                                                                 \n",
            " conv2d_5 (Conv2D)           (None, 7, 7, 96)          153696    \n",
            "                                                                 \n",
            "=================================================================\n",
            "Total params: 809296 (3.09 MB)\n",
            "Trainable params: 809296 (3.09 MB)\n",
            "Non-trainable params: 0 (0.00 Byte)\n",
            "_________________________________________________________________\n"
          ]
        }
      ]
    },
    {
      "cell_type": "code",
      "source": [
        "model.add(layers.Flatten())\n",
        "model.add(layers.Dense(256,activation='relu'))\n",
        "model.add(layers.Dense(10,activation='softmax'))"
      ],
      "metadata": {
        "id": "ZOUwH9FXu3XX"
      },
      "execution_count": 12,
      "outputs": []
    },
    {
      "cell_type": "code",
      "source": [
        "model.summary()"
      ],
      "metadata": {
        "colab": {
          "base_uri": "https://localhost:8080/"
        },
        "id": "RlJOwb6-wwSH",
        "outputId": "1b2b78f2-8826-4324-fd66-6f37987c3d5f"
      },
      "execution_count": 13,
      "outputs": [
        {
          "output_type": "stream",
          "name": "stdout",
          "text": [
            "Model: \"sequential\"\n",
            "_________________________________________________________________\n",
            " Layer (type)                Output Shape              Param #   \n",
            "=================================================================\n",
            " conv2d (Conv2D)             (None, 28, 28, 96)        2496      \n",
            "                                                                 \n",
            " max_pooling2d (MaxPooling2  (None, 14, 14, 96)        0         \n",
            " D)                                                              \n",
            "                                                                 \n",
            " dropout (Dropout)           (None, 14, 14, 96)        0         \n",
            "                                                                 \n",
            " conv2d_1 (Conv2D)           (None, 14, 14, 96)        230496    \n",
            "                                                                 \n",
            " max_pooling2d_1 (MaxPoolin  (None, 7, 7, 96)          0         \n",
            " g2D)                                                            \n",
            "                                                                 \n",
            " dropout_1 (Dropout)         (None, 7, 7, 96)          0         \n",
            "                                                                 \n",
            " conv2d_2 (Conv2D)           (None, 7, 7, 80)          192080    \n",
            "                                                                 \n",
            " conv2d_3 (Conv2D)           (None, 7, 7, 64)          128064    \n",
            "                                                                 \n",
            " conv2d_4 (Conv2D)           (None, 7, 7, 64)          102464    \n",
            "                                                                 \n",
            " conv2d_5 (Conv2D)           (None, 7, 7, 96)          153696    \n",
            "                                                                 \n",
            " flatten (Flatten)           (None, 4704)              0         \n",
            "                                                                 \n",
            " dense (Dense)               (None, 256)               1204480   \n",
            "                                                                 \n",
            " dense_1 (Dense)             (None, 10)                2570      \n",
            "                                                                 \n",
            "=================================================================\n",
            "Total params: 2016346 (7.69 MB)\n",
            "Trainable params: 2016346 (7.69 MB)\n",
            "Non-trainable params: 0 (0.00 Byte)\n",
            "_________________________________________________________________\n"
          ]
        }
      ]
    },
    {
      "cell_type": "code",
      "source": [
        "model.compile(loss='sparse_categorical_crossentropy',optimizer='Adam',metrics=['accuracy'])"
      ],
      "metadata": {
        "id": "dLw3hwrqwyGu"
      },
      "execution_count": 14,
      "outputs": []
    },
    {
      "cell_type": "code",
      "source": [
        "history = model.fit(X_train_reshaped, y_train, epochs=10, batch_size=128, validation_data=(X_test_reshaped, y_test))"
      ],
      "metadata": {
        "colab": {
          "base_uri": "https://localhost:8080/"
        },
        "id": "OW6xoum5w_h9",
        "outputId": "8c8c418b-976d-4bc8-be37-439f07054761"
      },
      "execution_count": 15,
      "outputs": [
        {
          "output_type": "stream",
          "name": "stdout",
          "text": [
            "Epoch 1/10\n",
            "469/469 [==============================] - 18s 23ms/step - loss: 0.3022 - accuracy: 0.8968 - val_loss: 0.0532 - val_accuracy: 0.9830\n",
            "Epoch 2/10\n",
            "469/469 [==============================] - 9s 19ms/step - loss: 0.0664 - accuracy: 0.9794 - val_loss: 0.0321 - val_accuracy: 0.9900\n",
            "Epoch 3/10\n",
            "469/469 [==============================] - 9s 19ms/step - loss: 0.0516 - accuracy: 0.9837 - val_loss: 0.0293 - val_accuracy: 0.9909\n",
            "Epoch 4/10\n",
            "469/469 [==============================] - 9s 20ms/step - loss: 0.0420 - accuracy: 0.9875 - val_loss: 0.0247 - val_accuracy: 0.9921\n",
            "Epoch 5/10\n",
            "469/469 [==============================] - 9s 19ms/step - loss: 0.0366 - accuracy: 0.9884 - val_loss: 0.0284 - val_accuracy: 0.9917\n",
            "Epoch 6/10\n",
            "469/469 [==============================] - 9s 19ms/step - loss: 0.0326 - accuracy: 0.9898 - val_loss: 0.0223 - val_accuracy: 0.9921\n",
            "Epoch 7/10\n",
            "469/469 [==============================] - 9s 20ms/step - loss: 0.0311 - accuracy: 0.9906 - val_loss: 0.0262 - val_accuracy: 0.9920\n",
            "Epoch 8/10\n",
            "469/469 [==============================] - 9s 20ms/step - loss: 0.0285 - accuracy: 0.9913 - val_loss: 0.0267 - val_accuracy: 0.9929\n",
            "Epoch 9/10\n",
            "469/469 [==============================] - 9s 20ms/step - loss: 0.0292 - accuracy: 0.9913 - val_loss: 0.0227 - val_accuracy: 0.9921\n",
            "Epoch 10/10\n",
            "469/469 [==============================] - 9s 20ms/step - loss: 0.0252 - accuracy: 0.9916 - val_loss: 0.0253 - val_accuracy: 0.9919\n"
          ]
        }
      ]
    },
    {
      "cell_type": "code",
      "source": [
        "plt.plot(history.history['accuracy'], label='accuracy')\n",
        "plt.plot(history.history['val_accuracy'], label = 'val_accuracy')\n",
        "plt.xlabel('Epoch')\n",
        "plt.ylabel('Accuracy')\n",
        "plt.ylim([0.5, 1])\n",
        "plt.legend(loc='lower right')"
      ],
      "metadata": {
        "colab": {
          "base_uri": "https://localhost:8080/",
          "height": 472
        },
        "id": "1IC77OHf8Udq",
        "outputId": "226fdbeb-51ac-4047-bf20-72d484e6df7c"
      },
      "execution_count": 16,
      "outputs": [
        {
          "output_type": "execute_result",
          "data": {
            "text/plain": [
              "<matplotlib.legend.Legend at 0x7cf9ea0f4d60>"
            ]
          },
          "metadata": {},
          "execution_count": 16
        },
        {
          "output_type": "display_data",
          "data": {
            "text/plain": [
              "<Figure size 640x480 with 1 Axes>"
            ],
            "image/png": "[encoded data removed]"
          },
          "metadata": {}
        }
      ]
    },
    {
      "cell_type": "code",
      "source": [
        "y_pred_probabilities = model.predict(X_test_reshaped)\n",
        "y_pred = np.argmax(y_pred_probabilities, axis=1)\n",
        "conf_matrix = confusion_matrix(y_test, y_pred)\n",
        "print(\"Confusion Matrix:\")\n",
        "print(conf_matrix)"
      ],
      "metadata": {
        "colab": {
          "base_uri": "https://localhost:8080/"
        },
        "id": "EptFiDNH-hi5",
        "outputId": "78bca122-1b44-4df6-e066-51ff114f4513"
      },
      "execution_count": 17,
      "outputs": [
        {
          "output_type": "stream",
          "name": "stdout",
          "text": [
            "313/313 [==============================] - 1s 2ms/step\n",
            "Confusion Matrix:\n",
            "[[ 978    0    0    0    0    0    1    1    0    0]\n",
            " [   0 1134    0    0    0    1    0    0    0    0]\n",
            " [   0    1 1022    4    0    0    0    2    3    0]\n",
            " [   0    0    0 1009    0    1    0    0    0    0]\n",
            " [   0    1    0    0  955    0    1    1    0   24]\n",
            " [   1    0    0    4    0  885    1    0    1    0]\n",
            " [   2    2    0    1    1    1  950    0    1    0]\n",
            " [   0    5    1    0    0    0    0 1020    0    2]\n",
            " [   0    0    0    1    0    2    0    0  968    3]\n",
            " [   0    0    1    2    1    1    0    5    1  998]]\n"
          ]
        }
      ]
    },
    {
      "cell_type": "code",
      "source": [
        "def image_classifier(path):\n",
        "  image_path = path\n",
        "  image = cv2.imread(image_path)\n",
        "\n",
        "  resized_image = cv2.resize(image, (28, 28))\n",
        "  gray_image = cv2.cvtColor(resized_image, cv2.COLOR_BGR2GRAY)\n",
        "  normalized_image = gray_image / 255.0\n",
        "\n",
        "  input_image = normalized_image.reshape(1, 28, 28, 1)\n",
        "\n",
        "  predicted_probabilities = model.predict(input_image)\n",
        "  predicted_class = np.argmax(predicted_probabilities)\n",
        "\n",
        "  print(\"Predicted Class:\", predicted_class)\n",
        ""
      ],
      "metadata": {
        "id": "42oTlEMp8wTR"
      },
      "execution_count": 19,
      "outputs": []
    },
    {
      "cell_type": "code",
      "source": [
        "image_classifier(\"/content/5.jpeg\")"
      ],
      "metadata": {
        "colab": {
          "base_uri": "https://localhost:8080/"
        },
        "id": "laI8s67H9H_E",
        "outputId": "89fa734f-bb3d-454a-fc5e-322f2a8eec15"
      },
      "execution_count": 24,
      "outputs": [
        {
          "output_type": "stream",
          "name": "stdout",
          "text": [
            "1/1 [==============================] - 0s 38ms/step\n",
            "Predicted Class: 5\n"
          ]
        }
      ]
    }
  ]
}