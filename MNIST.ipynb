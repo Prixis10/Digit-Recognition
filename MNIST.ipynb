{
  "nbformat": 4,
  "nbformat_minor": 0,
  "metadata": {
    "colab": {
      "provenance": [],
      "gpuType": "T4"
    },
    "kernelspec": {
      "name": "python3",
      "display_name": "Python 3"
    },
    "language_info": {
      "name": "python"
    },
    "accelerator": "GPU"
  },
  "cells": [
    {
      "cell_type": "code",
      "execution_count": null,
      "metadata": {
        "id": "a4jMg37LlrGC"
      },
      "outputs": [],
      "source": [
        "import pandas as pd\n",
        "import numpy as np\n",
        "import tensorflow as tf\n",
        "from sklearn.metrics import accuracy_score\n",
        "from sklearn.metrics import confusion_matrix\n",
        "import matplotlib.pyplot as plt\n",
        "import seaborn as sns\n",
        "from tensorflow import keras\n",
        "from tensorflow.keras import datasets, layers, models"
      ]
    },
    {
      "cell_type": "code",
      "source": [
        "(X_train,y_train),(X_test,y_test) = keras.datasets.mnist.load_data()"
      ],
      "metadata": {
        "id": "_dvbbGbzuB9A"
      },
      "execution_count": null,
      "outputs": []
    },
    {
      "cell_type": "code",
      "source": [
        "X_train.shape"
      ],
      "metadata": {
        "colab": {
          "base_uri": "https://localhost:8080/"
        },
        "id": "6hnKYmXKtjZK",
        "outputId": "9d5f9888-afde-48a5-f312-06594a33b3b2"
      },
      "execution_count": null,
      "outputs": [
        {
          "output_type": "execute_result",
          "data": {
            "text/plain": [
              "(60000, 28, 28)"
            ]
          },
          "metadata": {},
          "execution_count": 214
        }
      ]
    },
    {
      "cell_type": "code",
      "source": [
        "y_train.shape"
      ],
      "metadata": {
        "colab": {
          "base_uri": "https://localhost:8080/"
        },
        "id": "qrt4dAP2uI3u",
        "outputId": "08da6e23-1c7a-485b-aabe-bbe5893a1016"
      },
      "execution_count": null,
      "outputs": [
        {
          "output_type": "execute_result",
          "data": {
            "text/plain": [
              "(60000,)"
            ]
          },
          "metadata": {},
          "execution_count": 215
        }
      ]
    },
    {
      "cell_type": "code",
      "source": [
        "X_test.shape"
      ],
      "metadata": {
        "colab": {
          "base_uri": "https://localhost:8080/"
        },
        "id": "EIbVJq5fuMG2",
        "outputId": "c456b6ff-b718-4891-adde-90d2270a58d0"
      },
      "execution_count": null,
      "outputs": [
        {
          "output_type": "execute_result",
          "data": {
            "text/plain": [
              "(10000, 28, 28)"
            ]
          },
          "metadata": {},
          "execution_count": 216
        }
      ]
    },
    {
      "cell_type": "code",
      "source": [
        "y_test.shape"
      ],
      "metadata": {
        "colab": {
          "base_uri": "https://localhost:8080/"
        },
        "id": "PLyH0-WiuNy-",
        "outputId": "8ff6eb0d-696d-48bf-f5e6-fb3d8c6ac2b0"
      },
      "execution_count": null,
      "outputs": [
        {
          "output_type": "execute_result",
          "data": {
            "text/plain": [
              "(10000,)"
            ]
          },
          "metadata": {},
          "execution_count": 217
        }
      ]
    },
    {
      "cell_type": "code",
      "source": [
        "plt.imshow(X_train[2])"
      ],
      "metadata": {
        "colab": {
          "base_uri": "https://localhost:8080/",
          "height": 447
        },
        "id": "k7EbDu1u0HfQ",
        "outputId": "9c88251f-3094-41bb-f64d-362b0f902efb"
      },
      "execution_count": null,
      "outputs": [
        {
          "output_type": "execute_result",
          "data": {
            "text/plain": [
              "<matplotlib.image.AxesImage at 0x7ca414273c70>"
            ]
          },
          "metadata": {},
          "execution_count": 218
        },
        {
          "output_type": "display_data",
          "data": {
            "text/plain": [
              "<Figure size 640x480 with 1 Axes>"
            ],
            "image/png": "[encoded data removed]"
          },
          "metadata": {}
        }
      ]
    },
    {
      "cell_type": "code",
      "source": [
        "X_train = X_train/255.0\n",
        "X_test = X_test/255.0"
      ],
      "metadata": {
        "id": "a7nGh7nQuR6W"
      },
      "execution_count": null,
      "outputs": []
    },
    {
      "cell_type": "code",
      "source": [
        "X_train_reshaped = X_train.reshape(-1, 28, 28, 1)\n",
        "X_test_reshaped = X_test.reshape(-1, 28, 28, 1)"
      ],
      "metadata": {
        "id": "Lnt96bCF8huD"
      },
      "execution_count": null,
      "outputs": []
    },
    {
      "cell_type": "code",
      "source": [
        "model = models.Sequential()\n",
        "model.add(layers.Conv2D(96, (5, 5), activation='relu', input_shape=(28,28,1), padding='same'))\n",
        "model.add(layers.MaxPooling2D((2, 2)))\n",
        "model.add(layers.Dropout(0.5))\n",
        "model.add(layers.Conv2D(96, (5, 5), activation='relu', padding='same'))\n",
        "model.add(layers.MaxPooling2D((2, 2)))\n",
        "model.add(layers.Dropout(0.5))\n",
        "model.add(layers.Conv2D(80, (5, 5), activation='relu', padding='same'))\n",
        "model.add(layers.Conv2D(64, (5, 5), activation='relu', padding='same'))\n",
        "model.add(layers.Conv2D(64, (5, 5), activation='relu', padding='same'))\n",
        "model.add(layers.Conv2D(96, (5, 5), activation='relu', padding='same'))"
      ],
      "metadata": {
        "id": "wPJOwIDWv7zf"
      },
      "execution_count": null,
      "outputs": []
    },
    {
      "cell_type": "code",
      "source": [
        "model.summary()"
      ],
      "metadata": {
        "colab": {
          "base_uri": "https://localhost:8080/"
        },
        "id": "gMoZULJNvsZ_",
        "outputId": "e8e03c45-24bb-4374-df55-2f022afc9970"
      },
      "execution_count": null,
      "outputs": [
        {
          "output_type": "stream",
          "name": "stdout",
          "text": [
            "Model: \"sequential_26\"\n",
            "_________________________________________________________________\n",
            " Layer (type)                Output Shape              Param #   \n",
            "=================================================================\n",
            " conv2d_131 (Conv2D)         (None, 28, 28, 96)        2496      \n",
            "                                                                 \n",
            " max_pooling2d_45 (MaxPooli  (None, 14, 14, 96)        0         \n",
            " ng2D)                                                           \n",
            "                                                                 \n",
            " dropout_43 (Dropout)        (None, 14, 14, 96)        0         \n",
            "                                                                 \n",
            " conv2d_132 (Conv2D)         (None, 14, 14, 96)        230496    \n",
            "                                                                 \n",
            " max_pooling2d_46 (MaxPooli  (None, 7, 7, 96)          0         \n",
            " ng2D)                                                           \n",
            "                                                                 \n",
            " dropout_44 (Dropout)        (None, 7, 7, 96)          0         \n",
            "                                                                 \n",
            " conv2d_133 (Conv2D)         (None, 7, 7, 80)          192080    \n",
            "                                                                 \n",
            " conv2d_134 (Conv2D)         (None, 7, 7, 64)          128064    \n",
            "                                                                 \n",
            " conv2d_135 (Conv2D)         (None, 7, 7, 64)          102464    \n",
            "                                                                 \n",
            " conv2d_136 (Conv2D)         (None, 7, 7, 96)          153696    \n",
            "                                                                 \n",
            "=================================================================\n",
            "Total params: 809296 (3.09 MB)\n",
            "Trainable params: 809296 (3.09 MB)\n",
            "Non-trainable params: 0 (0.00 Byte)\n",
            "_________________________________________________________________\n"
          ]
        }
      ]
    },
    {
      "cell_type": "code",
      "source": [
        "model.add(layers.Flatten())\n",
        "model.add(layers.Dense(256,activation='relu'))\n",
        "model.add(layers.Dense(10,activation='softmax'))"
      ],
      "metadata": {
        "id": "ZOUwH9FXu3XX"
      },
      "execution_count": null,
      "outputs": []
    },
    {
      "cell_type": "code",
      "source": [
        "model.summary()"
      ],
      "metadata": {
        "colab": {
          "base_uri": "https://localhost:8080/"
        },
        "id": "RlJOwb6-wwSH",
        "outputId": "7e10db27-db80-49d2-8e8e-78292e31ce88"
      },
      "execution_count": null,
      "outputs": [
        {
          "output_type": "stream",
          "name": "stdout",
          "text": [
            "Model: \"sequential_26\"\n",
            "_________________________________________________________________\n",
            " Layer (type)                Output Shape              Param #   \n",
            "=================================================================\n",
            " conv2d_131 (Conv2D)         (None, 28, 28, 96)        2496      \n",
            "                                                                 \n",
            " max_pooling2d_45 (MaxPooli  (None, 14, 14, 96)        0         \n",
            " ng2D)                                                           \n",
            "                                                                 \n",
            " dropout_43 (Dropout)        (None, 14, 14, 96)        0         \n",
            "                                                                 \n",
            " conv2d_132 (Conv2D)         (None, 14, 14, 96)        230496    \n",
            "                                                                 \n",
            " max_pooling2d_46 (MaxPooli  (None, 7, 7, 96)          0         \n",
            " ng2D)                                                           \n",
            "                                                                 \n",
            " dropout_44 (Dropout)        (None, 7, 7, 96)          0         \n",
            "                                                                 \n",
            " conv2d_133 (Conv2D)         (None, 7, 7, 80)          192080    \n",
            "                                                                 \n",
            " conv2d_134 (Conv2D)         (None, 7, 7, 64)          128064    \n",
            "                                                                 \n",
            " conv2d_135 (Conv2D)         (None, 7, 7, 64)          102464    \n",
            "                                                                 \n",
            " conv2d_136 (Conv2D)         (None, 7, 7, 96)          153696    \n",
            "                                                                 \n",
            " flatten_20 (Flatten)        (None, 4704)              0         \n",
            "                                                                 \n",
            " dense_42 (Dense)            (None, 256)               1204480   \n",
            "                                                                 \n",
            " dense_43 (Dense)            (None, 10)                2570      \n",
            "                                                                 \n",
            "=================================================================\n",
            "Total params: 2016346 (7.69 MB)\n",
            "Trainable params: 2016346 (7.69 MB)\n",
            "Non-trainable params: 0 (0.00 Byte)\n",
            "_________________________________________________________________\n"
          ]
        }
      ]
    },
    {
      "cell_type": "code",
      "source": [
        "model.compile(loss='sparse_categorical_crossentropy',optimizer='Adam',metrics=['accuracy'])"
      ],
      "metadata": {
        "id": "dLw3hwrqwyGu"
      },
      "execution_count": null,
      "outputs": []
    },
    {
      "cell_type": "code",
      "source": [
        "history = model.fit(X_train_reshaped, y_train, epochs=10, batch_size=128, validation_data=(X_test_reshaped, y_test))"
      ],
      "metadata": {
        "colab": {
          "base_uri": "https://localhost:8080/"
        },
        "id": "OW6xoum5w_h9",
        "outputId": "6a89ac7f-f78b-4efd-b7f4-e192e2e9baa2"
      },
      "execution_count": null,
      "outputs": [
        {
          "output_type": "stream",
          "name": "stdout",
          "text": [
            "Epoch 1/10\n",
            "469/469 [==============================] - 19s 24ms/step - loss: 0.3366 - accuracy: 0.8845 - val_loss: 0.0641 - val_accuracy: 0.9798\n",
            "Epoch 2/10\n",
            "469/469 [==============================] - 10s 21ms/step - loss: 0.0684 - accuracy: 0.9796 - val_loss: 0.0351 - val_accuracy: 0.9887\n",
            "Epoch 3/10\n",
            "469/469 [==============================] - 10s 22ms/step - loss: 0.0534 - accuracy: 0.9833 - val_loss: 0.0337 - val_accuracy: 0.9890\n",
            "Epoch 4/10\n",
            "469/469 [==============================] - 10s 20ms/step - loss: 0.0444 - accuracy: 0.9865 - val_loss: 0.0260 - val_accuracy: 0.9923\n",
            "Epoch 5/10\n",
            "469/469 [==============================] - 10s 21ms/step - loss: 0.0373 - accuracy: 0.9887 - val_loss: 0.0254 - val_accuracy: 0.9922\n",
            "Epoch 6/10\n",
            "469/469 [==============================] - 9s 20ms/step - loss: 0.0348 - accuracy: 0.9891 - val_loss: 0.0278 - val_accuracy: 0.9912\n",
            "Epoch 7/10\n",
            "469/469 [==============================] - 10s 22ms/step - loss: 0.0339 - accuracy: 0.9892 - val_loss: 0.0226 - val_accuracy: 0.9929\n",
            "Epoch 8/10\n",
            "469/469 [==============================] - 10s 21ms/step - loss: 0.0284 - accuracy: 0.9914 - val_loss: 0.0257 - val_accuracy: 0.9915\n",
            "Epoch 9/10\n",
            "469/469 [==============================] - 9s 20ms/step - loss: 0.0271 - accuracy: 0.9916 - val_loss: 0.0331 - val_accuracy: 0.9905\n",
            "Epoch 10/10\n",
            "469/469 [==============================] - 10s 21ms/step - loss: 0.0268 - accuracy: 0.9915 - val_loss: 0.0273 - val_accuracy: 0.9917\n"
          ]
        }
      ]
    },
    {
      "cell_type": "code",
      "source": [
        "plt.plot(history.history['accuracy'], label='accuracy')\n",
        "plt.plot(history.history['val_accuracy'], label = 'val_accuracy')\n",
        "plt.xlabel('Epoch')\n",
        "plt.ylabel('Accuracy')\n",
        "plt.ylim([0.5, 1])\n",
        "plt.legend(loc='lower right')"
      ],
      "metadata": {
        "colab": {
          "base_uri": "https://localhost:8080/",
          "height": 472
        },
        "id": "1IC77OHf8Udq",
        "outputId": "46d571d6-152d-4309-f706-06cf4d1b9600"
      },
      "execution_count": null,
      "outputs": [
        {
          "output_type": "execute_result",
          "data": {
            "text/plain": [
              "<matplotlib.legend.Legend at 0x7ca4156b6440>"
            ]
          },
          "metadata": {},
          "execution_count": 227
        },
        {
          "output_type": "display_data",
          "data": {
            "text/plain": [
              "<Figure size 640x480 with 1 Axes>"
            ],
            "image/png": "[encoded data removed]"
          },
          "metadata": {}
        }
      ]
    },
    {
      "cell_type": "code",
      "source": [
        "y_pred_probabilities = model.predict(X_test_reshaped)\n",
        "y_pred = np.argmax(y_pred_probabilities, axis=1)\n",
        "conf_matrix = confusion_matrix(y_test, y_pred)\n",
        "print(\"Confusion Matrix:\")\n",
        "print(conf_matrix)"
      ],
      "metadata": {
        "colab": {
          "base_uri": "https://localhost:8080/"
        },
        "id": "EptFiDNH-hi5",
        "outputId": "a9c59af6-8bf8-4388-aef2-966a4f752b22"
      },
      "execution_count": null,
      "outputs": [
        {
          "output_type": "stream",
          "name": "stdout",
          "text": [
            "313/313 [==============================] - 1s 3ms/step\n",
            "Confusion Matrix:\n",
            "[[ 979    0    0    0    0    0    0    1    0    0]\n",
            " [   1 1130    1    0    0    0    1    2    0    0]\n",
            " [   2    0 1029    0    0    0    0    1    0    0]\n",
            " [   0    0    3 1006    0    1    0    0    0    0]\n",
            " [   0    0    0    0  973    0    1    0    0    8]\n",
            " [   1    0    0    6    0  883    1    0    1    0]\n",
            " [   5    2    0    0    0    5  944    0    2    0]\n",
            " [   0    3    6    0    0    0    0 1017    1    1]\n",
            " [   3    1    3    1    0    1    0    0  962    3]\n",
            " [   0    1    0    4    2    2    0    4    2  994]]\n"
          ]
        }
      ]
    },
    {
      "cell_type": "code",
      "source": [
        "import cv2\n",
        "\n",
        "image_path = \"/content/IMG_20240529_104807.jpg\"\n",
        "image = cv2.imread(image_path)\n",
        "\n",
        "resized_image = cv2.resize(image, (28, 28))\n",
        "gray_image = cv2.cvtColor(resized_image, cv2.COLOR_BGR2GRAY)\n",
        "normalized_image = gray_image / 255.0\n",
        "\n",
        "input_image = normalized_image.reshape(1, 28, 28, 1)\n",
        "\n",
        "predicted_probabilities = model.predict(input_image)\n",
        "predicted_class = np.argmax(predicted_probabilities)\n",
        "\n",
        "print(\"Predicted Class:\", predicted_class)\n"
      ],
      "metadata": {
        "colab": {
          "base_uri": "https://localhost:8080/"
        },
        "id": "qIENolWEAIaS",
        "outputId": "3187395b-3676-4c01-bbd2-34138e3b5590"
      },
      "execution_count": null,
      "outputs": [
        {
          "output_type": "stream",
          "name": "stdout",
          "text": [
            "1/1 [==============================] - 0s 18ms/step\n",
            "Predicted Class: 3\n"
          ]
        }
      ]
    },
    {
      "cell_type": "code",
      "source": [
        "image_path = \"/content/IMG_20240529_104841.jpg\"\n",
        "image = cv2.imread(image_path)\n",
        "\n",
        "resized_image = cv2.resize(image, (28, 28))\n",
        "gray_image = cv2.cvtColor(resized_image, cv2.COLOR_BGR2GRAY)\n",
        "normalized_image = gray_image / 255.0\n",
        "\n",
        "input_image = normalized_image.reshape(1, 28, 28, 1)\n",
        "\n",
        "predicted_probabilities = model.predict(input_image)\n",
        "predicted_class = np.argmax(predicted_probabilities)\n",
        "\n",
        "print(\"Predicted Class:\", predicted_class)"
      ],
      "metadata": {
        "colab": {
          "base_uri": "https://localhost:8080/"
        },
        "id": "upqyl4NeCEag",
        "outputId": "26eb1d39-1742-4b5e-8259-0022c4c7bf9f"
      },
      "execution_count": null,
      "outputs": [
        {
          "output_type": "stream",
          "name": "stdout",
          "text": [
            "1/1 [==============================] - 0s 28ms/step\n",
            "Predicted Class: 5\n"
          ]
        }
      ]
    },
    {
      "cell_type": "code",
      "source": [
        "image_path = \"/content/IMG_20240529_104913.jpg\"\n",
        "image = cv2.imread(image_path)\n",
        "\n",
        "resized_image = cv2.resize(image, (28, 28))\n",
        "gray_image = cv2.cvtColor(resized_image, cv2.COLOR_BGR2GRAY)\n",
        "normalized_image = gray_image / 255.0\n",
        "\n",
        "input_image = normalized_image.reshape(1, 28, 28, 1)\n",
        "\n",
        "predicted_probabilities = model.predict(input_image)\n",
        "predicted_class = np.argmax(predicted_probabilities)\n",
        "\n",
        "print(\"Predicted Class:\", predicted_class)"
      ],
      "metadata": {
        "colab": {
          "base_uri": "https://localhost:8080/"
        },
        "id": "Z_X0mRH4CxaA",
        "outputId": "d74dbfa8-8f6b-432d-d392-19a5c850e992"
      },
      "execution_count": null,
      "outputs": [
        {
          "output_type": "stream",
          "name": "stdout",
          "text": [
            "1/1 [==============================] - 0s 25ms/step\n",
            "Predicted Class: 3\n"
          ]
        }
      ]
    },
    {
      "cell_type": "code",
      "source": [],
      "metadata": {
        "id": "cXdE_qLkC5GQ"
      },
      "execution_count": null,
      "outputs": []
    }
  ]
}